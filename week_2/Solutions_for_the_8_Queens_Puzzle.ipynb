{
  "nbformat": 4,
  "nbformat_minor": 0,
  "metadata": {
    "colab": {
      "provenance": [],
      "authorship_tag": "ABX9TyNFABwD0AxZ8olL/0An99Dj",
      "include_colab_link": true
    },
    "kernelspec": {
      "name": "python3",
      "display_name": "Python 3"
    },
    "language_info": {
      "name": "python"
    }
  },
  "cells": [
    {
      "cell_type": "markdown",
      "metadata": {
        "id": "view-in-github",
        "colab_type": "text"
      },
      "source": [
        "<a href=\"https://colab.research.google.com/github/antolinmoral/math_thinking_for_cs/blob/main/Solutions_for_the_8_Queens_Puzzle.ipynb\" target=\"_parent\"><img src=\"https://colab.research.google.com/assets/colab-badge.svg\" alt=\"Open In Colab\"/></a>"
      ]
    },
    {
      "cell_type": "code",
      "execution_count": null,
      "metadata": {
        "id": "dXoXuWhuJsDS"
      },
      "outputs": [],
      "source": [
        "size = 8\n",
        "board = [['.'] * size for i in range(size)]\n",
        "\n",
        "def canPlace(p, i, j, board):\n",
        "    if p == 0:\n",
        "        if (j>0 and board[i][j-1] == 1 ) or (i>0 and board[i-1][j] == 1) or (i>0 and j>0 and board[i-1][j-1] == 0):\n",
        "            return False\n",
        "    if p == 1:\n",
        "        if (j>0 and board[i][j-1] == 0) or (i>0 and board[i-1][j] == 0) or (i>0 and j+1<size and board[i-1][j+1] == 1):\n",
        "            return False\n",
        "    return True\n",
        "\n",
        "\n",
        "\n",
        "def dfs(x, count):\n",
        "    if (size*size - x + 1) + count < 16:\n",
        "        return\n",
        "    if x == size*size:\n",
        "        if count == 16:\n",
        "            print(board)\n",
        "        return\n",
        "\n",
        "    i = x // size\n",
        "    j = x % size\n",
        "    if canPlace(0, i, j, board):\n",
        "        board[i][j] = 0\n",
        "        dfs(x+1, count+1)\n",
        "        board[i][j] = '.'\n",
        "    if canPlace(1, i, j, board):\n",
        "        board[i][j] = 1\n",
        "        dfs(x+1, count+1)\n",
        "        board[i][j] = '.'\n",
        "    dfs(x+1, count)\n",
        "\n",
        "dfs(0,0)"
      ]
    },
    {
      "cell_type": "code",
      "source": [
        "def compute_position(item, n):\n",
        "  dots = []\n",
        "  index = item[0]\n",
        "  direction = item[1]\n",
        "  x = (index - 1) % n\n",
        "  y = (index - 1) // n\n",
        "  if direction == \"L\":\n",
        "    dots.append((x, y))\n",
        "    dots.append((x + 1, y + 1))\n",
        "  else:\n",
        "    dots.append((x, y + 1))\n",
        "    dots.append((x + 1, y))\n",
        "  return dots\n",
        "\n",
        "\n",
        "def can_extend(combination, n):\n",
        "  dots_list = []\n",
        "  for item in combination:\n",
        "    dots = compute_position(item, n)\n",
        "    dots_list.extend(dots)\n",
        "  dots_set = set(dots_list)\n",
        "  if len(dots_list) != len(dots_set):\n",
        "    return False\n",
        "  else:\n",
        "    return True\n",
        "\n",
        "\n",
        "def backtrack_with_direction(combination, start, k, n, directions):\n",
        "  if k == 0:\n",
        "    print(combination)\n",
        "    # exit()\n",
        "    return\n",
        "  for i in range(start, n * n):\n",
        "    for j in range(2):\n",
        "      combination.append([i + 1, directions[j]])\n",
        "      if can_extend(combination, n):\n",
        "          backtrack_with_direction(combination, i + 1, k - 1, n, directions)\n",
        "      combination.pop()\n",
        "\n",
        "\n",
        "directions = [\"L\", \"R\"]\n",
        "backtrack_with_direction([], 0, 16, 5, directions)\n",
        "\n",
        "\"\"\"\n",
        "solution:\n",
        "[[1, 'R'], [2, 'R'], [3, 'R'], [5, 'L'], [8, 'R'], [10, 'L'], [11, 'L'],\n",
        "[12, 'L'], [14, 'L'], [15, 'L'], [16, 'L'], [18, 'R'], [21, 'L'], [23, 'R'],\n",
        "[24, 'R'], [25, 'R']]\n",
        "\n",
        "[[1, 'R'], [3, 'L'], [4, 'L'], [5, 'L'], [6, 'R'], [8, 'L'], [11, 'R'],\n",
        "[12, 'R'], [14, 'R'], [15, 'R'], [18, 'L'], [20, 'R'], [21, 'L'], [22, 'L'],\n",
        "[23, 'L'], [25, 'R']]\n",
        "\"\"\"\n"
      ],
      "metadata": {
        "id": "cRy1ThMVKBRV"
      },
      "execution_count": null,
      "outputs": []
    }
  ]
}
